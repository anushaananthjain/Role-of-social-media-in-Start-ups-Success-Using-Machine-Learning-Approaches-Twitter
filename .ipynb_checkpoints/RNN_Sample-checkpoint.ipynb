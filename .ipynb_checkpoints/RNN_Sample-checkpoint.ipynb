{
 "cells": [
  {
   "cell_type": "code",
   "execution_count": null,
   "id": "0626c28c",
   "metadata": {},
   "outputs": [],
   "source": [
    "import os\n",
    "import tensorflow as tf\n",
    "import matplotlib.pyplot as plt"
   ]
  },
  {
   "cell_type": "code",
   "execution_count": null,
   "id": "1fad5686",
   "metadata": {},
   "outputs": [],
   "source": [
    "# Loading Training and Test Datasets\n",
    "train_dir = os.path.join('', '../datasets/train')\n",
    "train_dataset = tf.keras.utils.text_dataset_from_directory(\n",
    "    train_dir, label_mode='int', labels='inferred', follow_links = True\n",
    ")\n",
    "test_dir = os.path.join('', '../datasets/test')\n",
    "test_dataset = tf.keras.utils.text_dataset_from_directory(\n",
    "    test_dir, label_mode='int', labels='inferred', follow_links = True\n",
    ")"
   ]
  },
  {
   "cell_type": "code",
   "execution_count": null,
   "id": "6fcfcaf0",
   "metadata": {},
   "outputs": [],
   "source": [
    "# Vectorize training dataset\n",
    "VOCAB_SIZE = 5000\n",
    "encoder = tf.keras.layers.TextVectorization(max_tokens=VOCAB_SIZE)\n",
    "encoder.adapt(train_dataset.map(lambda text, label: text))\n",
    "# Building the Recurrent Neural Network\n",
    "# using GRU cells and Hyperbolic tangent as activation function\n",
    "cell = tf.keras.layers.GRUCell(30, recurrent_activation='tanh')\n",
    "model = tf.keras.Sequential([\n",
    "    encoder,\n",
    "    tf.keras.layers.Embedding(\n",
    "        input_dim=len(encoder.get_vocabulary()),\n",
    "        output_dim=64,\n",
    "        # Use masking to handle the variable sequence lengths\n",
    "        mask_zero=True),\n",
    "    tf.keras.layers.Bidirectional(tf.keras.layers.RNN(cell)),\n",
    "    tf.keras.layers.Dense(60, activation='tanh'),\n",
    "    tf.keras.layers.Dense(1)\n",
    "])"
   ]
  },
  {
   "cell_type": "code",
   "execution_count": null,
   "id": "7731ed55",
   "metadata": {},
   "outputs": [],
   "source": [
    "# Compile model and use the algorithm Adam as optimization function\n",
    "model.compile(loss=tf.keras.losses.BinaryCrossentropy(from_logits=True), optimizer=tf.keras.optimizers.Adam(1e-2), metrics=['accuracy'])"
   ]
  },
  {
   "cell_type": "code",
   "execution_count": null,
   "id": "d69a52d2",
   "metadata": {},
   "outputs": [],
   "source": [
    "# Fitting the model\n",
    "history = model.fit(train_dataset, epochs=10, validation_data=test_dataset, validation_steps=10)\n"
   ]
  },
  {
   "cell_type": "code",
   "execution_count": null,
   "id": "105719dd",
   "metadata": {},
   "outputs": [],
   "source": [
    "# Model Evaluation\n",
    "test_loss, test_acc = model.evaluate(test_dataset)\n",
    "print('Test Loss:', test_loss)\n",
    "print('Test Accuracy:', test_acc)\n"
   ]
  },
  {
   "cell_type": "code",
   "execution_count": null,
   "id": "412684b0",
   "metadata": {},
   "outputs": [],
   "source": [
    "# Visualize Model Loss and Accuracy\n",
    "def plot_graphs(history, metric):\n",
    "    plt.plot(history.history[metric])\n",
    "    plt.plot(history.history['val_'+metric], '')\n",
    "    plt.xlabel(\"Epochs\")\n",
    "    plt.ylabel(metric)\n",
    "    plt.legend([metric, 'val_'+metric])\n",
    "plt.figure(figsize=(16, 8))\n",
    "plt.subplot(1, 2, 1)\n",
    "plot_graphs(history, 'accuracy')\n",
    "plt.ylim(None, 1)\n",
    "plt.subplot(1, 2, 2)\n",
    "plot_graphs(history, 'loss')\n",
    "plt.ylim(0, None)"
   ]
  }
 ],
 "metadata": {
  "kernelspec": {
   "display_name": "Python 3 (ipykernel)",
   "language": "python",
   "name": "python3"
  },
  "language_info": {
   "codemirror_mode": {
    "name": "ipython",
    "version": 3
   },
   "file_extension": ".py",
   "mimetype": "text/x-python",
   "name": "python",
   "nbconvert_exporter": "python",
   "pygments_lexer": "ipython3",
   "version": "3.8.5"
  }
 },
 "nbformat": 4,
 "nbformat_minor": 5
}
